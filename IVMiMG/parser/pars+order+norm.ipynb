{
 "cells": [
  {
   "cell_type": "code",
   "execution_count": 69,
   "id": "e67807c7",
   "metadata": {},
   "outputs": [
    {
     "data": {
      "image/png": "[encoded data removed]",
      "text/plain": [
       "<Figure size 432x288 with 1 Axes>"
      ]
     },
     "metadata": {
      "needs_background": "light"
     },
     "output_type": "display_data"
    }
   ],
   "source": [
    "import numpy as np\n",
    "import scipy\n",
    "import matplotlib.pylab as plt\n",
    "from matplotlib.pyplot import spy\n",
    "from scipy import sparse\n",
    "from scipy.io import mmread, mmwrite\n",
    "\n",
    "\n",
    "m = mmread('matrix.mtx')\n",
    "\n",
    "matrix = sparse.csr_matrix(m)\n",
    "\n",
    "u_dof = np.genfromtxt('u_dof_ids.txt',dtype=np.int32)\n",
    "p_dof = np.genfromtxt('p_dof_ids.txt',dtype=np.int32)\n",
    "u_x = np.array([u_dof[i] for i in range(0,len(u_dof),3)])\n",
    "u_y = np.array([u_dof[i] for i in range(1,len(u_dof),3)])\n",
    "u_z = np.array([u_dof[i] for i in range(2,len(u_dof),3)])\n",
    "\n",
    "sections = [len(u_x), len(u_y), len(u_z), len(p_dof)]\n",
    "points = np.cumsum(sections)\n",
    "points = np.insert(points, 0, 0)\n",
    "\n",
    "u_x_i = range(0, points[1])\n",
    "u_y_i = range(points[1], points[2])\n",
    "u_z_i = range(points[2], points[3])\n",
    "p_i = range(points[3], points[4])\n",
    "all_i = np.concatenate([u_x_i, u_y_i, u_z_i, p_i])\n",
    "all_j = np.concatenate([u_x, u_y, u_z, p_dof])\n",
    "values = np.array([1 for i in range(matrix.shape[1])])\n",
    "\n",
    "left_per = sparse.coo_matrix((values, (all_i, all_j))).tocsr()\n",
    "\n",
    "right_per = left_per.transpose()\n",
    "\n",
    "mtx = left_per@matrix@right_per\n",
    "\n",
    "div = mtx - mtx.transpose()\n",
    "\n",
    "mmwrite('matrix_ordered.mtx',mtx)\n",
    "\n",
    "#plt.spy(mtx)"
   ]
  },
  {
   "cell_type": "code",
   "execution_count": 33,
   "id": "35c8dfae",
   "metadata": {},
   "outputs": [
    {
     "data": {
      "text/plain": [
       "884"
      ]
     },
     "execution_count": 33,
     "metadata": {},
     "output_type": "execute_result"
    }
   ],
   "source": [
    "sections = [len(u_x), len(u_y), len(u_z), len(p_dof)]\n",
    "points = np.cumsum(sections)\n",
    "points = np.insert(points,0,0)\n",
    "points\n",
    "matrix.shape[1]"
   ]
  },
  {
   "cell_type": "code",
   "execution_count": 80,
   "id": "99d602de",
   "metadata": {},
   "outputs": [
    {
     "data": {
      "text/plain": [
       "1.2851966154889523e-11"
      ]
     },
     "execution_count": 80,
     "metadata": {},
     "output_type": "execute_result"
    }
   ],
   "source": [
    "# вычисляем норму разности симметрии \n",
    "from scipy.sparse.linalg import norm\n",
    "div = mtx - mtx.transpose()\n",
    "norm(div)"
   ]
  },
  {
   "cell_type": "code",
   "execution_count": 79,
   "id": "4dfe5312",
   "metadata": {},
   "outputs": [],
   "source": []
  }
 ],
 "metadata": {
  "kernelspec": {
   "display_name": "Python 3",
   "language": "python",
   "name": "python3"
  },
  "language_info": {
   "codemirror_mode": {
    "name": "ipython",
    "version": 3
   },
   "file_extension": ".py",
   "mimetype": "text/x-python",
   "name": "python",
   "nbconvert_exporter": "python",
   "pygments_lexer": "ipython3",
   "version": "3.8.8"
  }
 },
 "nbformat": 4,
 "nbformat_minor": 5
}
