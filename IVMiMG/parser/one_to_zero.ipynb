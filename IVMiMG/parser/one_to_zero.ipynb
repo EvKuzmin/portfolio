{
 "cells": [
  {
   "cell_type": "code",
   "execution_count": 5,
   "id": "40a15102",
   "metadata": {},
   "outputs": [],
   "source": [
    "with open('C:\\\\Users\\Eugene Kuzmin\\Desktop\\IVMiMG\\CR\\CR\\T-H_12x12x12.mtx') as f_mo, open('C:\\Temp\\matrix_for_analizer.mtx','w') as f_an:\n",
    "    line = f_mo.readline()\n",
    "    while line[0]=='%':\n",
    "            line = f_mo.readline()\n",
    "    values = line.split(' ')\n",
    "    f_an.write(values[1] + ' ' + values[2])\n",
    "    for line in f_mo:\n",
    "        temp = line.split(' ')\n",
    "        f_an.write(str(int(temp[0])-1 ) + ' ' + str(int(temp[1])-1 ) + ' ' + temp[2])\n",
    "                "
   ]
  }
 ],
 "metadata": {
  "kernelspec": {
   "display_name": "Python 3",
   "language": "python",
   "name": "python3"
  },
  "language_info": {
   "codemirror_mode": {
    "name": "ipython",
    "version": 3
   },
   "file_extension": ".py",
   "mimetype": "text/x-python",
   "name": "python",
   "nbconvert_exporter": "python",
   "pygments_lexer": "ipython3",
   "version": "3.8.8"
  }
 },
 "nbformat": 4,
 "nbformat_minor": 5
}
